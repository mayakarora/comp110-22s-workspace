{
 "cells": [
  {
   "cell_type": "markdown",
   "metadata": {},
   "source": [
    "# Analysis for Continuous Improvement\n",
    "\n",
    "Author Name: Maya Arora\n",
    "\n",
    "9-digit PID: 730410153\n",
    "\n",
    "Continuous Improvement embraces a belief there is _always room to make things better_. It is a mindset and process we value and practice in this course. In this assignment, you are able to practice continuous improvement and contribute to the design ideas of the course.\n",
    "\n",
    "## Brainstorming Ideas\n",
    "\n",
    "Reflect on your personal experiences and observations in COMP110 and **brainstorm modifications to the course that _create value_ beyond its current design**. When brainstorming, try not to be critical of the ideas you come up with regarding scale, stakeholders impacted, or for any other reasons. In the markdown cell below, brainstorm 3 to 5 ideas you think would create value for you.\n",
    "\n",
    "Each brainstormed idea should state a. the suggested change or addition, b. what the expected value created, and c. which specific stakeholders would benefit.  If helpful, expand on the following template \"The course should (state idea here) because it will (state value created here) for (insert stakeholders here).\"\n",
    "\n",
    "Example A: \"The course should use only examples from psychology experiments because it will be more relevant for students who are psychology majors.\"\n",
    "\n",
    "Example B: \"The course should not have post-lesson questions because they are not useful for most students in the class.\""
   ]
  },
  {
   "cell_type": "markdown",
   "metadata": {},
   "source": [
    "### Part 1. Creative Ideation\n",
    "\n",
    "1. This course should offer synchronous classes for every class because it will support the students who benefit from in-person learning.\n",
    "2. This course should offer options to integrate exercises with a student's interest/major because it would make them more passionate about their work.\n",
    "3. This course should have quizzes more frequently to assess understanding better and give students more time to improve their grade.\n",
    "4. This course should provide note guides to help students further understand how concepts connect.\n",
    "5. This course should assign smaller exercises with more frequency to reinforce individual topics more and provide more practice opportunities."
   ]
  },
  {
   "cell_type": "markdown",
   "metadata": {},
   "source": [
    "## Connecting with Available Data\n",
    "\n",
    "The data you have available for this analysis is limited to the anonymized course survey you and your peers filled out a few weeks ago. The data is found in the `survey.csv` file in this exercise directory. Each row represents an individual survey response. Each column has a description which can be found on the project write-up here: <https://22s.comp110.com/exercises/ex08.html>\n",
    "\n",
    "Review the list of available data and identify which one of your ideas _does not_, or is _least likely to_, have relevant data to support the analysis of your idea to create value. In the box below, identify which of your ideas lacks data and suggest how we might be able to collect this data in the future. One aspect of _continuous improvement_ is trying to avoid \"tunnel vision\" where possible improvements are not considered because there is no data available to analyze it. Identifying new data sources can unlock improvements!"
   ]
  },
  {
   "cell_type": "markdown",
   "metadata": {},
   "source": [
    "### Part 2. Identifying Missing Data\n",
    "\n",
    "1. Idea without sufficient data to analyze: note guides.\n",
    "\n",
    "2. Suggestion for how to collect data to support this idea in the future: The survey could collect data on how frequently they need to look up concepts online. These concepts would have to be ones that the instructors feel students should have a good understanding of just by watching the videos/attending class. Data could also be collected on how well a student feels they apply these concepts in the exercises or if they are unable to make the connections between concepts and applications. Both of these could provide insight on whether students might benefit from a more structured guide of the concepts."
   ]
  },
  {
   "cell_type": "markdown",
   "metadata": {},
   "source": [
    "## Choosing an Idea to Analyze\n",
    "\n",
    "Consider those of your ideas which _do_ seem likely to have relevant data to analyze. If none of your ideas do, spend a few minutes and brainstorm another idea or two with the added connection of data available on hand and add those ideas to your brainstormed ideas list.\n",
    "\n",
    "Select the one idea which you believe is _most valuable_ to analyze relative to the others and has data to support the analysis of. In the markdown cell for Part 3 below, identify the idea you are exploring and articulate why you believe it is most valuable (e.g. widest impact, biggest opportunity for improvement, simplest change for significant improvement, and so on)."
   ]
  },
  {
   "cell_type": "markdown",
   "metadata": {},
   "source": [
    "### Part 3. Choosing Your Analysis\n",
    "\n",
    "1. Idea to analyze with available data: the ability to integrate exercises with personal interests.\n",
    "\n",
    "2. This idea is more valuable than the others brainstormed because: each student is interested/passionate about something and they are usually more motivated when something relates to their interests. This is an idea that would affect all students and improve learning through self-motivation. The structure of the course will never be perfect for every student, but the course can always encourage more opportunities for self-motivation, in whatever form that may be\n"
   ]
  },
  {
   "cell_type": "markdown",
   "metadata": {},
   "source": [
    "## Your Analysis\n",
    "\n",
    "Before you begin analysis, a reminder that we do not expect the data to support everyone's ideas and you can complete this exercise for full credit even if the data does not clearly support your suggestion or even completely refutes it. What we are looking for is a logical attempt to explore the data using the techniques you have learned up until now in a way that _either_ supports, refutes, or does not have a clear result and then to reflect on your findings after the analysis.\n",
    "\n",
    "Using the utility functions you created for the previous exercise, you will continue with your analysis in the following part. Before you begin, refer to the rubric on the technical expectations of this section in the exercise write-up.\n",
    "\n",
    "In this section, you are expected to interleave code and markdown cells such that for each step of your analysis you are starting with an English description of what you are planning to do next in a markdown cell, followed by a Python cell that performs that step of the analysis."
   ]
  },
  {
   "cell_type": "markdown",
   "metadata": {},
   "source": [
    "### Part 4. Analysis\n",
    "\n",
    "We begin by changing some settings in the notebook to automatically reload changes to imported files."
   ]
  },
  {
   "cell_type": "code",
   "execution_count": 216,
   "metadata": {},
   "outputs": [],
   "source": [
    "%reload_ext autoreload\n",
    "%autoreload 2"
   ]
  },
  {
   "cell_type": "markdown",
   "metadata": {},
   "source": [
    "We continue by importing the helper functions from `data_utils`."
   ]
  },
  {
   "cell_type": "code",
   "execution_count": 217,
   "metadata": {},
   "outputs": [],
   "source": [
    "from new_data_utils import read_csv_rows, head, columnar, select, count"
   ]
  },
  {
   "cell_type": "markdown",
   "metadata": {},
   "source": [
    "Next, ... (you take it from here and add additional code and markdown cells to read in the CSV file and process it as needed)"
   ]
  },
  {
   "cell_type": "code",
   "execution_count": 218,
   "metadata": {},
   "outputs": [],
   "source": [
    "SURVEY_DATA_CSV_FILE_PATH: str = \"../../data/survey.csv\""
   ]
  },
  {
   "cell_type": "markdown",
   "metadata": {},
   "source": [
    "The function `read_csv_rows` shows how many people who answered this survey are Neuroscience majors."
   ]
  },
  {
   "cell_type": "code",
   "execution_count": 219,
   "metadata": {},
   "outputs": [
    {
     "name": "stdout",
     "output_type": "stream",
     "text": [
      "This is data from: ../../data/survey.csv\n"
     ]
    }
   ],
   "source": [
    "from new_data_utils import read_csv_rows\n",
    "\n",
    "data_rows: list[dict[str, str]] = read_csv_rows(SURVEY_DATA_CSV_FILE_PATH)\n",
    "\n",
    "if len(data_rows) == 0:\n",
    "    print(\"Error: no rows to read.\")\n",
    "else:\n",
    "    print(f\"This is data from: {SURVEY_DATA_CSV_FILE_PATH}\")"
   ]
  },
  {
   "cell_type": "markdown",
   "metadata": {},
   "source": [
    "The function `head` shows the first 10 rows of data. The `columnar` function is used to convert the data from a row-table to a column table.\n"
   ]
  },
  {
   "cell_type": "code",
   "execution_count": 220,
   "metadata": {},
   "outputs": [
    {
     "name": "stdout",
     "output_type": "stream",
     "text": [
      "380 students in this class are not computer science majors!\n",
      "11 of the first 15 responses rated their interest in this class as a 7.\n"
     ]
    }
   ],
   "source": [
    "from new_data_utils import columnar, head\n",
    "from tabulate import tabulate\n",
    "\n",
    "column_table: dict[str, list[str]] = columnar(data_rows)\n",
    "\n",
    "non_comp_sci_majors: list[str] = []\n",
    "for primary_major in column_table:\n",
    "    for item in primary_major:\n",
    "        if item != \"Computer Science\":\n",
    "            non_comp_sci_majors.append(item)\n",
    "print(f'{len(non_comp_sci_majors)} students in this class are not computer science majors!')\n",
    "\n",
    "initial_lines: dict[str, list[str]] = head(column_table, 20)\n",
    "tabulate(initial_lines, initial_lines.keys(), \"html\")\n",
    "numbers: list[str] = initial_lines[\"interesting\"]\n",
    "\n",
    "i: int = 0\n",
    "counter: int = 0\n",
    "while i < len(numbers):\n",
    "    if numbers[i] == '7':\n",
    "        counter += 1\n",
    "    i += 1\n",
    "print(f'{counter} of the first 15 responses rated their interest in this class as a 7.')\n",
    "\n"
   ]
  },
  {
   "cell_type": "markdown",
   "metadata": {},
   "source": [
    "The `select` function is used to see how many people expressed the rated their intelletual interest of the class at the highest level."
   ]
  },
  {
   "cell_type": "code",
   "execution_count": 226,
   "metadata": {},
   "outputs": [
    {
     "name": "stdout",
     "output_type": "stream",
     "text": [
      "437 students rated their interest in this class as a 6 or 7.\n",
      "Frequencies of interest ratings: {'1': 7, '2': 7, '3': 16, '4': 47, '5': 106, '6': 144, '7': 293}\n"
     ]
    }
   ],
   "source": [
    "from new_data_utils import select, count\n",
    "\n",
    "selected_data: dict[str, list[str]] = select(column_table, [\"interesting\"])\n",
    "\n",
    "def total(one: dict[str, list[str]]) -> int:\n",
    "    high_interest: list[str] = []\n",
    "    medium_interest: list[str] = []\n",
    "    low_interest: list[str] = []\n",
    "    for key in selected_data:\n",
    "        interest_levels: list[str] = selected_data[key]\n",
    "        i: int = 0\n",
    "        while i < len(selected_data[key]):\n",
    "            if interest_levels[i] == \"7\":\n",
    "                high_interest.append(interest_levels[i])\n",
    "            if interest_levels[i] == \"6\":\n",
    "                high_interest.append(interest_levels[i])\n",
    "            if interest_levels[i] == \"5\":\n",
    "                medium_interest.append(interest_levels[i])\n",
    "            if interest_levels[i] == \"4\":\n",
    "                medium_interest.append(interest_levels[i])\n",
    "            if interest_levels[i] == \"3\":\n",
    "                medium_interest.append(interest_levels[i])\n",
    "            if interest_levels[i] == \"2\":\n",
    "                low_interest.append(interest_levels[i])\n",
    "            if interest_levels[i] == \"1\":\n",
    "                low_interest.append(interest_levels[i])\n",
    "            i += 1\n",
    "    return(len(high_interest))\n",
    "\n",
    "analysis: int = total(selected_data)\n",
    "print(f'{analysis} students rated their interest in this class as a 6 or 7.')\n",
    "\n",
    "pyplot_labels: dict[str, int] = count(selected_data[\"interesting\"])\n",
    "sorted_labels = sorted(pyplot_labels.items(), key = lambda kv: kv[1])\n",
    "dictionary_sorted = dict(sorted_labels)\n",
    "print(f'Frequencies of interest ratings: {dictionary_sorted}')"
   ]
  },
  {
   "cell_type": "markdown",
   "metadata": {},
   "source": [
    "This is a plot that show the interest levels of all majors in this class."
   ]
  },
  {
   "cell_type": "code",
   "execution_count": 227,
   "metadata": {},
   "outputs": [
    {
     "name": "stdout",
     "output_type": "stream",
     "text": [
      "This graph is a visual respresentation of the frequencies of students' interest levels in this class.\n"
     ]
    },
    {
     "data": {
      "image/png": "[encoded data removed]",
      "text/plain": [
       "<Figure size 432x288 with 1 Axes>"
      ]
     },
     "metadata": {
      "needs_background": "light"
     },
     "output_type": "display_data"
    }
   ],
   "source": [
    "from matplotlib import pyplot\n",
    "\n",
    "for key in pyplot_labels:\n",
    "    pyplot.title(\"Interest Levels of Neuroscience Majors.\")\n",
    "    pyplot.xlabel(\"Interest Levels\")\n",
    "    pyplot.ylabel(\"Frequencies\")\n",
    "    interest: str = dictionary_sorted.keys()\n",
    "    frequency: int = dictionary_sorted.values()\n",
    "    pyplot.bar(interest, frequency)\n",
    "print(\"This graph is a visual respresentation of the frequencies of students' interest levels in this class.\")"
   ]
  },
  {
   "cell_type": "markdown",
   "metadata": {},
   "source": [
    "## Conclusion\n",
    "\n",
    "In the following markdown cell, write a reflective conclusion given the analysis you performed and identify recommendations.\n",
    "\n",
    "If your analysis of the data supports your idea, state your recommendation for the change and summarize the data analysys results you found which support it. Additionally, describe any extensions or refinements to this idea which might be explored further. Finally, discuss the potential costs, trade-offs, or stakeholders who may be negatively impacted by this proposed change.\n",
    "\n",
    "If your analysis of the data is inconclusive, summarize why your data analysis results were inconclusive in the support of your idea. Additionally, describe what experimental idea implementation or additional data collection might help build more confidence in assessing your idea. Finally, discuss the potential costs, trade-offs, or stakeholders who may be negatively impacted by experimenting with your idea.\n",
    "\n",
    "Finally, if your analysis of the data does not support it, summarize your data analysis results and why it refutes your idea. Discuss the potential costs, trade-offs, or stakeholders who may be negatively impacted by this proposed change. If you disagree with the validity of the findings, describe why your idea still makes sense to implement and what alternative data would better support it. If you agree with the validity of the data analysis, describe what alternate ideas or extensions you would explore instead. "
   ]
  },
  {
   "cell_type": "markdown",
   "metadata": {},
   "source": [
    "### Part 5. Conclusion\n",
    "\n",
    "Based on the data, the class already has high rates of high interest levels. Based on the fact that the number of students considered to have a `low-interest,` or rating their interest as a `1` or `2`, is only `14 students`, so the course does not need to work hard to improve that aspect. Additionally, the number of students who rated their interest as `medium,` or as a `3`, `4`, or `5`, was `169 students`. Therefore, the majority of students consider themselves to have a `high interest,` or a rating of a `6` or `7`, in the class, with `437 students` in this category. The graph provides an appropriate visual for this distribution.\n",
    "\n",
    "Since most students seem to have at least a mild interest in the class, it seems like there is not much that should change. However, if there is a desire to move some of the `medium interest` students to `high interest,` this idea could be further explored with more data. Specifically, while doing the survey, if students selected an option that was `3`, `4`, or `5`, there could be questions designed to assess what would make this class highly interesting for them. This could include questions such as, `Does this class lack a specific component that would make it highly interesting for you?` or `Would the ability to personalize more components of your exercises increase your interest in them?` \n",
    "\n",
    "With regards to students who selected `1` or `2`, there could be specific questions asking them to elaborate. This could be in the form of, `Is there any way this class could be more interesting for you?` or `Are there significant barriers to you having a high interest in this class?` An analysis of those who are highly interested would be a waste of resources, so I think targeting those who have room to improve would be more useful.\n",
    "\n",
    "One thing to consider is if these changes would impact those with a high interest already. Additionally, some more things to explore is confounders between interest levels. Logically, it would make sense that more computer science majors are interested in a computer science class. So, would catering to students who are non-computer-science majors negatively impact those majoring in it? That is why I think it is crucial to understand where the disinterest or mild interest originates because a simple dislike of the material can not be addressed. However, a dislike of the way the topics are applied or some specific content can be addressed.\n"
   ]
  }
 ],
 "metadata": {
  "interpreter": {
   "hash": "aee8b7b246df8f9039afb4144a1f6fd8d2ca17a180786b69acc140d282b71a49"
  },
  "kernelspec": {
   "display_name": "Python 3.10.2 64-bit",
   "language": "python",
   "name": "python3"
  },
  "language_info": {
   "codemirror_mode": {
    "name": "ipython",
    "version": 3
   },
   "file_extension": ".py",
   "mimetype": "text/x-python",
   "name": "python",
   "nbconvert_exporter": "python",
   "pygments_lexer": "ipython3",
   "version": "3.10.1"
  },
  "orig_nbformat": 4
 },
 "nbformat": 4,
 "nbformat_minor": 2
}
